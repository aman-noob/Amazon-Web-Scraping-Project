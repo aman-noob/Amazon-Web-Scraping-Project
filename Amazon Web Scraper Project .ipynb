{
 "cells": [
  {
   "cell_type": "markdown",
   "id": "01b04c67",
   "metadata": {},
   "source": [
    "> Importing Libraries"
   ]
  },
  {
   "cell_type": "code",
   "execution_count": 10,
   "id": "41a9a654",
   "metadata": {},
   "outputs": [],
   "source": [
    "from bs4 import BeautifulSoup\n",
    "import requests\n",
    "import time\n",
    "import datetime\n",
    "import smtplib"
   ]
  },
  {
   "cell_type": "markdown",
   "id": "b34c2a64",
   "metadata": {},
   "source": [
    ">Connecting to website to pull data"
   ]
  },
  {
   "cell_type": "code",
   "execution_count": 31,
   "id": "9969c5fb",
   "metadata": {},
   "outputs": [
    {
     "name": "stdout",
     "output_type": "stream",
     "text": [
      "\n",
      "            HP 15 (2021) Thin & Light Ryzen 3-3250 Laptop, 8 GB RAM, 1TB HDD, 39.62 cms (15.6\") FHD Screen, Windows 10, MS Office (15s-gr0011AU)\n",
      "           \n",
      "\n",
      "               ₹37,490.00\n",
      "              \n"
     ]
    }
   ],
   "source": [
    "URL = 'https://www.amazon.in/HP-3-3250-Laptop-Windows-15s-gr0011AU/dp/B08T6SJ215/ref=sr_1_4?dchild=1&keywords=hp+laptop&qid=1631023820&sr=8-4'\n",
    "headers = {\"User-Agent\": \"Mozilla/5.0 (Windows NT 10.0; Win64; x64) AppleWebKit/537.36 (KHTML, like Gecko) Chrome/93.0.4577.63 Safari/537.36\", \"Accept-Encoding\":\"gzip, deflate\", \"Accept\":\"text/html,application/xhtml+xml,application/xml;q=0.9,*/*;q=0.8\", \"DNT\":\"1\",\"Connection\":\"close\", \"Upgrade-Insecure-Requests\":\"1\"}\n",
    "page = requests.get(URL, headers=headers)\n",
    "\n",
    "Soup1 = BeautifulSoup(page.content, \"html.parser\")\n",
    "Soup2 = BeautifulSoup(Soup1.prettify(), \"html.parser\")\n",
    "\n",
    "title = Soup2.find(id='productTitle').get_text()\n",
    "price = Soup2.find(id='priceblock_ourprice').get_text()\n",
    "print (title)\n",
    "print(price)"
   ]
  },
  {
   "cell_type": "markdown",
   "id": "bf09a70f",
   "metadata": {},
   "source": [
    ">Cleaning the data"
   ]
  },
  {
   "cell_type": "code",
   "execution_count": 33,
   "id": "46a1e7e6",
   "metadata": {},
   "outputs": [
    {
     "name": "stdout",
     "output_type": "stream",
     "text": [
      "37,490.00\n"
     ]
    }
   ],
   "source": [
    "price = price.strip()[1:]\n",
    "print(price)"
   ]
  },
  {
   "cell_type": "code",
   "execution_count": 34,
   "id": "2a49fb97",
   "metadata": {},
   "outputs": [
    {
     "data": {
      "text/plain": [
       "'HP 15 (2021) Thin & Light Ryzen 3-3250 Laptop, 8 GB RAM, 1TB HDD, 39.62 cms (15.6\") FHD Screen, Windows 10, MS Office (15s-gr0011AU)'"
      ]
     },
     "execution_count": 34,
     "metadata": {},
     "output_type": "execute_result"
    }
   ],
   "source": [
    "title.strip()"
   ]
  },
  {
   "cell_type": "markdown",
   "id": "559bb2b8",
   "metadata": {},
   "source": [
    ">Create a Timestamp for output to track when data was collected"
   ]
  },
  {
   "cell_type": "code",
   "execution_count": 42,
   "id": "fa7f7c46",
   "metadata": {},
   "outputs": [
    {
     "name": "stdout",
     "output_type": "stream",
     "text": [
      "2021-09-07\n"
     ]
    }
   ],
   "source": [
    "import datetime\n",
    "today = datetime.date.today()\n",
    "print(today)"
   ]
  },
  {
   "cell_type": "markdown",
   "id": "4ce19b4d",
   "metadata": {},
   "source": [
    ">Create CSV and write headers and data into the file"
   ]
  },
  {
   "cell_type": "code",
   "execution_count": 47,
   "id": "2aec0b12",
   "metadata": {},
   "outputs": [],
   "source": [
    "import csv \n",
    "header = [\"Title\", \"Price\", 'Date']\n",
    "data = [title, price, today]\n",
    "with open(\"AmazonWebScraperProjectt.csv\", 'w', newline='', encoding = 'UTF8') as f:\n",
    "    writer = csv.writer(f)\n",
    "    writer.writerow(header)\n",
    "    writer.writerow(data)"
   ]
  },
  {
   "cell_type": "code",
   "execution_count": 50,
   "id": "3f4460af",
   "metadata": {
    "scrolled": true
   },
   "outputs": [
    {
     "name": "stdout",
     "output_type": "stream",
     "text": [
      "                                               Title      Price        Date\n",
      "0  \\n            HP 15 (2021) Thin & Light Ryzen ...  37,490.00  2021-09-07\n",
      "1  \\n            HP 15 (2021) Thin & Light Ryzen ...  37,490.00  2021-09-07\n"
     ]
    }
   ],
   "source": [
    "import pandas as pd\n",
    "df = pd.read_csv(r'C:\\Users\\AMAN JHA\\AmazonWebScraperProjectt.csv')\n",
    "print(df)"
   ]
  },
  {
   "cell_type": "markdown",
   "id": "d0adb021",
   "metadata": {},
   "source": [
    ">Appending data to CSV"
   ]
  },
  {
   "cell_type": "code",
   "execution_count": 49,
   "id": "7d227ad3",
   "metadata": {},
   "outputs": [],
   "source": [
    "with open(\"AmazonWebScraperProjectt.csv\", 'a+', newline='', encoding = 'UTF8') as f:\n",
    "    writer = csv.writer(f)\n",
    "    writer.writerow(data)"
   ]
  },
  {
   "cell_type": "markdown",
   "id": "6fdc3527",
   "metadata": {},
   "source": [
    ">Combine all of the above code into one function"
   ]
  },
  {
   "cell_type": "code",
   "execution_count": 59,
   "id": "58a911ee",
   "metadata": {},
   "outputs": [],
   "source": [
    "def check_price():\n",
    "    URL = 'https://www.amazon.in/HP-3-3250-Laptop-Windows-15s-gr0011AU/dp/B08T6SJ215/ref=sr_1_4?dchild=1&keywords=hp+laptop&qid=1631023820&sr=8-4'\n",
    "    headers = {\"User-Agent\": \"Mozilla/5.0 (Windows NT 10.0; Win64; x64) AppleWebKit/537.36 (KHTML, like Gecko) Chrome/93.0.4577.63 Safari/537.36\", \"Accept-Encoding\":\"gzip, deflate\", \"Accept\":\"text/html,application/xhtml+xml,application/xml;q=0.9,*/*;q=0.8\", \"DNT\":\"1\",\"Connection\":\"close\", \"Upgrade-Insecure-Requests\":\"1\"}\n",
    "    page = requests.get(URL, headers=headers)\n",
    "\n",
    "    Soup1 = BeautifulSoup(page.content, \"html.parser\")\n",
    "    Soup2 = BeautifulSoup(Soup1.prettify(), \"html.parser\")\n",
    "\n",
    "    title = Soup2.find(id='productTitle').get_text()\n",
    "    price = Soup2.find(id='priceblock_ourprice').get_text()\n",
    "    price = price.strip()[1:]\n",
    "    title.strip()\n",
    "    \n",
    "    import datetime\n",
    "    today = datetime.date.today()\n",
    "    \n",
    "    import csv \n",
    "    \n",
    "    header = [\"Title\", \"Price\", 'Date']\n",
    "    data = [title, price, today]\n",
    "    \n",
    "    with open(\"AmazonWebScraperProjectt.csv\", 'a+', newline='', encoding = 'UTF8') as f:\n",
    "        writer = csv.writer(f)\n",
    "        writer.writerow(data)\n",
    "    \n",
    "    if (price<37500):\n",
    "        send_mail()\n",
    "    "
   ]
  },
  {
   "cell_type": "markdown",
   "id": "2a5e456d",
   "metadata": {},
   "source": [
    ">Runs check_price after a set time and inputs data into your CSV"
   ]
  },
  {
   "cell_type": "code",
   "execution_count": null,
   "id": "7ad76ccb",
   "metadata": {},
   "outputs": [],
   "source": [
    "while(True):\n",
    "    check_price()\n",
    "    time.sleep(86400)"
   ]
  },
  {
   "cell_type": "code",
   "execution_count": null,
   "id": "d3a253f5",
   "metadata": {},
   "outputs": [],
   "source": [
    "import pandas as pd\n",
    "df = pd.read_csv(r'C:\\Users\\AMAN JHA\\AmazonWebScraperProjectt.csv')\n",
    "print(df)"
   ]
  },
  {
   "cell_type": "markdown",
   "id": "2e6fa3d2",
   "metadata": {},
   "source": [
    ">If you want to try sending yourself an email (just for fun) when a price hits below a certain level you can try it\n",
    "\n"
   ]
  },
  {
   "cell_type": "code",
   "execution_count": 58,
   "id": "742e359a",
   "metadata": {},
   "outputs": [],
   "source": [
    "def send_mail():\n",
    "    server = smtplib.SMTP_SSL('smtp.gmail.com',465)\n",
    "    server.ehlo()\n",
    "    #server.starttls()\n",
    "    server.ehlo()\n",
    "    server.login('amanjha987@gmail.com','**insertpasswordhere**')\n",
    "    \n",
    "    subject = \"The Laptop you want is below 37000! Now is your chance to buy!\"\n",
    "    body = \"Aman, This is the moment we have been waiting for. Now is your chance to pick up the Laptop of your dreams. Don't mess it up! Link here: https://https://www.amazon.in/HP-3-3250-Laptop-Windows-15s-gr0011AU/dp/B08T6SJ215/ref=sr_1_4?dchild=1&keywords=hp+laptop&qid=1631023820&sr=8-4\"\n",
    "   \n",
    "    msg = f\"Subject: {subject}\\n\\n{body}\"\n",
    "    \n",
    "    server.sendmail(\n",
    "        'amanjha987@gmail.com',\n",
    "        msg\n",
    "     \n",
    "    )"
   ]
  }
 ],
 "metadata": {
  "kernelspec": {
   "display_name": "Python 3",
   "language": "python",
   "name": "python3"
  },
  "language_info": {
   "codemirror_mode": {
    "name": "ipython",
    "version": 3
   },
   "file_extension": ".py",
   "mimetype": "text/x-python",
   "name": "python",
   "nbconvert_exporter": "python",
   "pygments_lexer": "ipython3",
   "version": "3.8.8"
  }
 },
 "nbformat": 4,
 "nbformat_minor": 5
}
